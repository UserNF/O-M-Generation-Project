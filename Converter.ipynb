{
 "cells": [
  {
   "cell_type": "code",
   "execution_count": 1,
   "id": "1788c47f-764d-43b9-939a-301bc41c35ca",
   "metadata": {},
   "outputs": [],
   "source": [
    "import nbformat\n",
    "from nbconvert import PythonExporter\n",
    "\n",
    "def convert_ipynb_to_py(ipynb_file, py_file):\n",
    "    # Read the notebook content\n",
    "    with open(ipynb_file, 'r', encoding='utf-8') as f:\n",
    "        notebook_content = nbformat.read(f, as_version=4)\n",
    "    \n",
    "    # Convert to Python script\n",
    "    python_exporter = PythonExporter()\n",
    "    python_script, _ = python_exporter.from_notebook_node(notebook_content)\n",
    "    \n",
    "    # Write the Python script to a file\n",
    "    with open(py_file, 'w', encoding='utf-8') as f:\n",
    "        f.write(python_script)\n",
    "\n",
    "# Example usage\n",
    "convert_ipynb_to_py('UI Test.ipynb', 'UIWatchDogTest.py')"
   ]
  },
  {
   "cell_type": "code",
   "execution_count": 2,
   "id": "4eff1f10-0bb5-4f1b-a7f6-a1bff16170a2",
   "metadata": {},
   "outputs": [
    {
     "name": "stdout",
     "output_type": "stream",
     "text": [
      "An error occurred: [Errno 2] No such file or directory: 'indx.pdf'\n",
      "Text extraction failed.\n"
     ]
    }
   ],
   "source": []
  },
  {
   "cell_type": "code",
   "execution_count": 9,
   "id": "f1a56c1f-b1f5-4b1e-aecd-0b6b65ab6464",
   "metadata": {},
   "outputs": [],
   "source": [
    "!pip -qqq install tabula-py"
   ]
  },
  {
   "cell_type": "code",
   "execution_count": 5,
   "id": "25f67301-30f8-4ecd-847e-2ee4c5fd7860",
   "metadata": {},
   "outputs": [
    {
     "name": "stdout",
     "output_type": "stream",
     "text": [
      "Extracted table from page 1 and saved as CSV.\n",
      "All tables combined and saved as 'output_combined.csv'.\n"
     ]
    }
   ],
   "source": [
    "import pdfplumber\n",
    "import pandas as pd\n",
    "\n",
    "# Path to the PDF file\n",
    "pdf_file = \"Index.pdf\"\n",
    "\n",
    "# Open the PDF and extract tables\n",
    "with pdfplumber.open(pdf_file) as pdf:\n",
    "    all_tables = []\n",
    "    for i, page in enumerate(pdf.pages):\n",
    "        table = page.extract_table()\n",
    "        if table:\n",
    "            df = pd.DataFrame(table)\n",
    "            all_tables.append(df)\n",
    "            df.to_csv(f\"output_table_page_{i+1}.csv\", index=False)\n",
    "            print(f\"Extracted table from page {i+1} and saved as CSV.\")\n",
    "\n",
    "# Optional: Combine all extracted tables into a single CSV file\n",
    "if all_tables:\n",
    "    combined_df = pd.concat(all_tables, ignore_index=True)\n",
    "    combined_df.to_csv(\"output_combined.csv\", index=False)\n",
    "    print(\"All tables combined and saved as 'output_combined.csv'.\")\n",
    "else:\n",
    "    print(\"No tables found in the PDF.\")\n"
   ]
  },
  {
   "cell_type": "code",
   "execution_count": null,
   "id": "bf0ce59c-c3ef-4de1-9578-497eff816405",
   "metadata": {},
   "outputs": [],
   "source": []
  }
 ],
 "metadata": {
  "kernelspec": {
   "display_name": "Python 3 (ipykernel)",
   "language": "python",
   "name": "python3"
  },
  "language_info": {
   "codemirror_mode": {
    "name": "ipython",
    "version": 3
   },
   "file_extension": ".py",
   "mimetype": "text/x-python",
   "name": "python",
   "nbconvert_exporter": "python",
   "pygments_lexer": "ipython3",
   "version": "3.13.0"
  }
 },
 "nbformat": 4,
 "nbformat_minor": 5
}
