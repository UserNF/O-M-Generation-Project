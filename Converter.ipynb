{
 "cells": [
  {
   "cell_type": "code",
   "execution_count": 1,
   "id": "1788c47f-764d-43b9-939a-301bc41c35ca",
   "metadata": {},
   "outputs": [],
   "source": [
    "import nbformat\n",
    "from nbconvert import PythonExporter\n",
    "\n",
    "def convert_ipynb_to_py(ipynb_file, py_file):\n",
    "    # Read the notebook content\n",
    "    with open(ipynb_file, 'r', encoding='utf-8') as f:\n",
    "        notebook_content = nbformat.read(f, as_version=4)\n",
    "    \n",
    "    # Convert to Python script\n",
    "    python_exporter = PythonExporter()\n",
    "    python_script, _ = python_exporter.from_notebook_node(notebook_content)\n",
    "    \n",
    "    # Write the Python script to a file\n",
    "    with open(py_file, 'w', encoding='utf-8') as f:\n",
    "        f.write(python_script)\n",
    "\n",
    "# Example usage\n",
    "convert_ipynb_to_py('UI Test.ipynb', 'UI Test.py')"
   ]
  },
  {
   "cell_type": "code",
   "execution_count": null,
   "id": "4eff1f10-0bb5-4f1b-a7f6-a1bff16170a2",
   "metadata": {},
   "outputs": [],
   "source": []
  }
 ],
 "metadata": {
  "kernelspec": {
   "display_name": "Python 3 (ipykernel)",
   "language": "python",
   "name": "python3"
  },
  "language_info": {
   "codemirror_mode": {
    "name": "ipython",
    "version": 3
   },
   "file_extension": ".py",
   "mimetype": "text/x-python",
   "name": "python",
   "nbconvert_exporter": "python",
   "pygments_lexer": "ipython3",
   "version": "3.13.0"
  }
 },
 "nbformat": 4,
 "nbformat_minor": 5
}
