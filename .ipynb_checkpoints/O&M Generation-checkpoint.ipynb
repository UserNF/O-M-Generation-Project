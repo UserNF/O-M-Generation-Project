{
 "cells": [
  {
   "cell_type": "code",
   "execution_count": 3,
   "id": "b4ffc0b0-055b-4c0e-a30b-a859395c6308",
   "metadata": {},
   "outputs": [
    {
     "name": "stdout",
     "output_type": "stream",
     "text": [
      "['Ia3920efmi']\n",
      "['I']\n",
      "['a', 'Series']\n",
      "['a', 'Series']\n",
      "['Technical', 'Bull']\n",
      "['Technical', 'Bull']\n",
      "['etin']\n",
      "['290340929']\n",
      "['29', 'Series', 'Technical', 'Bull']\n",
      "['29', 'Series', 'Technical', 'Bull']\n",
      "['29', 'Series', 'Technical', 'Bull']\n",
      "['29', 'Series', 'Technical', 'Bull']\n",
      "['etin']\n",
      "['3490ikrfer']\n",
      "['34']\n",
      "['P']\n",
      "['roduct', 'dat']\n",
      "['roduct', 'dat']\n",
      "['a', 'shee']\n",
      "['a', 'shee']\n",
      "['t']\n",
      "[';eri039844']\n",
      "['I']\n",
      "['ior;']\n",
      "['orskg3']\n",
      "['Lio']\n",
      "['Catalog', 'page']\n",
      "['Catalog', 'page']\n"
     ]
    },
    {
     "data": {
      "text/plain": [
       "'\\nfilenames = [\"Product Documents/SH, SJ, SR Series Datasheet.pdf\",\"Product Documents/Macurco-Calibration-Flyer.pdf\"] \\n\\n\\n\\nmerger = PdfMerger()\\nfor filename in filenames:\\n    merger.append(filename)\\n\\nmerger.write(\"testMerge.pdf\")\\n\\n'"
      ]
     },
     "execution_count": 3,
     "metadata": {},
     "output_type": "execute_result"
    }
   ],
   "source": [
    "# This program generates O&M based on the technical literature index \n",
    "import customtkinter\n",
    "import PyPDF2\n",
    "import os\n",
    "from PyPDF2 import PdfReader, PdfWriter,PdfMerger\n",
    "\n",
    "\n",
    "# Pulls data from a pdf file\n",
    "reader = PdfReader(\"Test.pdf\")\n",
    "page = reader.pages[0]\n",
    "\n",
    "\n",
    "parts = []\n",
    "\n",
    "# Reads the index pdf for product details\n",
    "def visitor_body(text, cm, tm, fontDict, fontSize):\n",
    "    y = tm[5]\n",
    "    if  y < 660 and y > 50:\n",
    "        s = text.split()\n",
    "        for i in s:\n",
    "            print(s)\n",
    "        parts.append(text)\n",
    "\n",
    "directory_path = 'Product Documents'\n",
    "merger = PdfMerger()\n",
    "\n",
    "# Append parts of text in the index\n",
    "page.extract_text(visitor_text=visitor_body)\n",
    "text_body = \"\".join(parts)\n",
    "\n",
    "#print(text_body)\n",
    "\n",
    "# reads documents in the pdf folder (should read only the documents that appear in the technical literature index)\n",
    "'\n",
    "for filename in os.listdir(directory_path):\n",
    "    file_path = os.path.join(directory_path, filename)\n",
    "    if os.path.isfile(file_path):\n",
    "        with open(file_path, 'r') as file:\n",
    "            merger.append(directory_path+\"/\"+filename)\n",
    "\n",
    "# \"tests\" is the folder that the merged document generates everything in\n",
    "#merger.write(\"Tests/autoMerge.pdf\")\n",
    "\n",
    "'''\n",
    "filenames = [\"Product Documents/SH, SJ, SR Series Datasheet.pdf\",\"Product Documents/Macurco-Calibration-Flyer.pdf\"] \n",
    "\n",
    "\n",
    "\n",
    "merger = PdfMerger()\n",
    "for filename in filenames:\n",
    "    merger.append(filename)\n",
    "\n",
    "merger.write(\"testMerge.pdf\")\n",
    "\n",
    "'''\n",
    "\n",
    "    \n"
   ]
  },
  {
   "cell_type": "code",
   "execution_count": 88,
   "id": "0a8c86e9-33ba-440f-a56b-9e5f9fef3cf0",
   "metadata": {},
   "outputs": [
    {
     "name": "stdout",
     "output_type": "stream",
     "text": [
      "{';eri039844': '', 'Uiefan;o2': '', 'Uadssdkla': ''}\n"
     ]
    },
    {
     "data": {
      "text/plain": [
       "'\\nfor i in first_column[2:]:\\n    dictionary[i] = second_column[i]\\n'"
      ]
     },
     "execution_count": 88,
     "metadata": {},
     "output_type": "execute_result"
    }
   ],
   "source": [
    "import camelot\n",
    "\n",
    "# Read the PDF and extract tables\n",
    "tables = camelot.read_pdf(\"Test2.pdf\", pages=\"1\")\n",
    "\n",
    "# Access the first table and its first column\n",
    "\n",
    "first_column = tables[0].df[0]\n",
    "\n",
    "second_column = tables[0].df[1]\n",
    "\n",
    "offset = 2\n",
    "\n",
    "dictionary = {}\n",
    "\n",
    "# check for rows with empty documents and store those rows in a dictionary\n",
    "for index, value in enumerate(second_column[offset:]):\n",
    "    if(value==\"\"):\n",
    "        dictionary[first_column[index+offset]] = second_column[index+offset]\n",
    "\n",
    "print(dictionary)\n",
    "   \n",
    "\n",
    "#dictionary = {} not working\n",
    "\n",
    "\n",
    "\n",
    "'''\n",
    "for i in first_column[2:]:\n",
    "    dictionary[i] = second_column[i]\n",
    "'''"
   ]
  },
  {
   "cell_type": "code",
   "execution_count": null,
   "id": "57e2f6b8-53e8-40f4-81b8-7a489de1e088",
   "metadata": {},
   "outputs": [],
   "source": []
  }
 ],
 "metadata": {
  "kernelspec": {
   "display_name": "Python 3 (ipykernel)",
   "language": "python",
   "name": "python3"
  },
  "language_info": {
   "codemirror_mode": {
    "name": "ipython",
    "version": 3
   },
   "file_extension": ".py",
   "mimetype": "text/x-python",
   "name": "python",
   "nbconvert_exporter": "python",
   "pygments_lexer": "ipython3",
   "version": "3.13.0"
  }
 },
 "nbformat": 4,
 "nbformat_minor": 5
}
