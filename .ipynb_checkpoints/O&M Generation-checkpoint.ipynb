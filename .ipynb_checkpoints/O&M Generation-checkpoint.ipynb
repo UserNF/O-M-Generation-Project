{
 "cells": [
  {
   "cell_type": "code",
   "execution_count": 5,
   "id": "b4ffc0b0-055b-4c0e-a30b-a859395c6308",
   "metadata": {},
   "outputs": [
    {
     "name": "stdout",
     "output_type": "stream",
     "text": [
      "['Ia3920efmi']\n",
      "['TechnicalLit']\n",
      "['290340929']\n",
      "['TechnicalLit']\n",
      "['3490ikrfer']\n",
      "['TechnicalLit']\n",
      "\n",
      "Ia3920efmi   TechnicalLit  \n",
      "290340929  TechnicalLit  \n",
      "3490ikrfer  TechnicalLit  \n",
      " \n"
     ]
    }
   ],
   "source": [
    "# This program generates O&M based on the technical literature index \n",
    "import customtkinter\n",
    "import PyPDF2\n",
    "import os\n",
    "from PyPDF2 import PdfReader, PdfWriter,PdfMerger\n",
    "\n",
    "\n",
    "# Pulls data from a pdf file\n",
    "reader = PdfReader(\"Test.pdf\")\n",
    "page = reader.pages[0]\n",
    "\n",
    "\n",
    "parts = []\n",
    "\n",
    "# Reads the index pdf for product details\n",
    "def visitor_body(text, cm, tm, fontDict, fontSize):\n",
    "    y = tm[5]\n",
    "    if  y < 660 and y > 50:\n",
    "        s = text.split()\n",
    "        for i in s:\n",
    "            print(s)\n",
    "        parts.append(text)\n",
    "\n",
    "directory_path = 'Product Documents'\n",
    "merger = PdfMerger()\n",
    "\n",
    "# Append parts of text in the index\n",
    "page.extract_text(visitor_text=visitor_body)\n",
    "text_body = \"\".join(parts)\n",
    "\n",
    "print(text_body)\n",
    "\n",
    "# reads documents in the pdf folder (should read only the documents that appear in the technical literature index)\n",
    "for filename in os.listdir(directory_path):\n",
    "    file_path = os.path.join(directory_path, filename)\n",
    "    if os.path.isfile(file_path):\n",
    "        with open(file_path, 'r') as file:\n",
    "            merger.append(directory_path+\"/\"+filename)\n",
    "\n",
    "# \"tests\" is the folder that the merged document generates everything in\n",
    "merger.write(\"Tests/autoMerge.pdf\")\n",
    "\n",
    "'''\n",
    "filenames = [\"Product Documents/SH, SJ, SR Series Datasheet.pdf\",\"Product Documents/Macurco-Calibration-Flyer.pdf\"] \n",
    "\n",
    "\n",
    "\n",
    "merger = PdfMerger()\n",
    "for filename in filenames:\n",
    "    merger.append(filename)\n",
    "\n",
    "merger.write(\"testMerge.pdf\")\n",
    "\n",
    "'''\n",
    "\n",
    "    \n"
   ]
  },
  {
   "cell_type": "code",
   "execution_count": 67,
   "id": "0a8c86e9-33ba-440f-a56b-9e5f9fef3cf0",
   "metadata": {},
   "outputs": [
    {
     "ename": "FileNotFoundError",
     "evalue": "[WinError 3] The system cannot find the path specified: '/path/to/your/directory'",
     "output_type": "error",
     "traceback": [
      "\u001b[1;31m---------------------------------------------------------------------------\u001b[0m",
      "\u001b[1;31mFileNotFoundError\u001b[0m                         Traceback (most recent call last)",
      "Cell \u001b[1;32mIn[67], line 5\u001b[0m\n\u001b[0;32m      1\u001b[0m \u001b[38;5;28;01mimport\u001b[39;00m \u001b[38;5;21;01mos\u001b[39;00m\n\u001b[0;32m      3\u001b[0m directory_path \u001b[38;5;241m=\u001b[39m \u001b[38;5;124m'\u001b[39m\u001b[38;5;124m/path/to/your/directory\u001b[39m\u001b[38;5;124m'\u001b[39m\n\u001b[1;32m----> 5\u001b[0m \u001b[38;5;28;01mfor\u001b[39;00m filename \u001b[38;5;129;01min\u001b[39;00m \u001b[43mos\u001b[49m\u001b[38;5;241;43m.\u001b[39;49m\u001b[43mlistdir\u001b[49m\u001b[43m(\u001b[49m\u001b[43mdirectory_path\u001b[49m\u001b[43m)\u001b[49m:\n\u001b[0;32m      6\u001b[0m     file_path \u001b[38;5;241m=\u001b[39m os\u001b[38;5;241m.\u001b[39mpath\u001b[38;5;241m.\u001b[39mjoin(directory_path, filename)\n\u001b[0;32m      7\u001b[0m     \u001b[38;5;28;01mif\u001b[39;00m os\u001b[38;5;241m.\u001b[39mpath\u001b[38;5;241m.\u001b[39misfile(file_path):\n",
      "\u001b[1;31mFileNotFoundError\u001b[0m: [WinError 3] The system cannot find the path specified: '/path/to/your/directory'"
     ]
    }
   ],
   "source": [
    "import os\n",
    "\n",
    "directory_path = '/path/to/your/directory'\n",
    "\n",
    "for filename in os.listdir(directory_path):\n",
    "    file_path = os.path.join(directory_path, filename)\n",
    "    if os.path.isfile(file_path):\n",
    "        with open(file_path, 'r') as file:\n",
    "            # Read file content\n",
    "            content = file.read()\n",
    "            # Process the content as needed\n",
    "            print(content)"
   ]
  },
  {
   "cell_type": "code",
   "execution_count": null,
   "id": "57e2f6b8-53e8-40f4-81b8-7a489de1e088",
   "metadata": {},
   "outputs": [],
   "source": []
  }
 ],
 "metadata": {
  "kernelspec": {
   "display_name": "Python 3 (ipykernel)",
   "language": "python",
   "name": "python3"
  },
  "language_info": {
   "codemirror_mode": {
    "name": "ipython",
    "version": 3
   },
   "file_extension": ".py",
   "mimetype": "text/x-python",
   "name": "python",
   "nbconvert_exporter": "python",
   "pygments_lexer": "ipython3",
   "version": "3.13.0"
  }
 },
 "nbformat": 4,
 "nbformat_minor": 5
}
