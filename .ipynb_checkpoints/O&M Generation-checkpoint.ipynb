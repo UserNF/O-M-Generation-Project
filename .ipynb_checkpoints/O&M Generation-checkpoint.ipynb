{
 "cells": [
  {
   "cell_type": "code",
   "execution_count": 3,
   "id": "b4ffc0b0-055b-4c0e-a30b-a859395c6308",
   "metadata": {},
   "outputs": [
    {
     "name": "stdout",
     "output_type": "stream",
     "text": [
      "['Ia3920efmi']\n",
      "['I']\n",
      "['a', 'Series']\n",
      "['a', 'Series']\n",
      "['Technical', 'Bull']\n",
      "['Technical', 'Bull']\n",
      "['etin']\n",
      "['290340929']\n",
      "['29', 'Series', 'Technical', 'Bull']\n",
      "['29', 'Series', 'Technical', 'Bull']\n",
      "['29', 'Series', 'Technical', 'Bull']\n",
      "['29', 'Series', 'Technical', 'Bull']\n",
      "['etin']\n",
      "['3490ikrfer']\n",
      "['34']\n",
      "['P']\n",
      "['roduct', 'dat']\n",
      "['roduct', 'dat']\n",
      "['a', 'shee']\n",
      "['a', 'shee']\n",
      "['t']\n",
      "[';eri039844']\n",
      "['I']\n",
      "['ior;']\n",
      "['orskg3']\n",
      "['Lio']\n",
      "['Catalog', 'page']\n",
      "['Catalog', 'page']\n"
     ]
    },
    {
     "data": {
      "text/plain": [
       "'\\nfilenames = [\"Product Documents/SH, SJ, SR Series Datasheet.pdf\",\"Product Documents/Macurco-Calibration-Flyer.pdf\"] \\n\\n\\n\\nmerger = PdfMerger()\\nfor filename in filenames:\\n    merger.append(filename)\\n\\nmerger.write(\"testMerge.pdf\")\\n\\n'"
      ]
     },
     "execution_count": 3,
     "metadata": {},
     "output_type": "execute_result"
    }
   ],
   "source": [
    "# This program generates O&M based on the technical literature index \n",
    "import customtkinter\n",
    "import PyPDF2\n",
    "import os\n",
    "from PyPDF2 import PdfReader, PdfWriter,PdfMerger\n",
    "\n",
    "\n",
    "# Pulls data from a pdf file\n",
    "reader = PdfReader(\"Test.pdf\")\n",
    "page = reader.pages[0]\n",
    "\n",
    "\n",
    "parts = []\n",
    "\n",
    "# Reads the index pdf for product details\n",
    "def visitor_body(text, cm, tm, fontDict, fontSize):\n",
    "    y = tm[5]\n",
    "    if  y < 660 and y > 50:\n",
    "        s = text.split()\n",
    "        for i in s:\n",
    "            print(s)\n",
    "        parts.append(text)\n",
    "\n",
    "directory_path = 'Product Documents'\n",
    "merger = PdfMerger()\n",
    "\n",
    "# Append parts of text in the index\n",
    "page.extract_text(visitor_text=visitor_body)\n",
    "text_body = \"\".join(parts)\n",
    "\n",
    "#print(text_body)\n",
    "\n",
    "# reads documents in the pdf folder (should read only the documents that appear in the technical literature index)\n",
    "'\n",
    "for filename in os.listdir(directory_path):\n",
    "    file_path = os.path.join(directory_path, filename)\n",
    "    if os.path.isfile(file_path):\n",
    "        with open(file_path, 'r') as file:\n",
    "            merger.append(directory_path+\"/\"+filename)\n",
    "\n",
    "# \"tests\" is the folder that the merged document generates everything in\n",
    "#merger.write(\"Tests/autoMerge.pdf\")\n",
    "\n",
    "'''\n",
    "filenames = [\"Product Documents/SH, SJ, SR Series Datasheet.pdf\",\"Product Documents/Macurco-Calibration-Flyer.pdf\"] \n",
    "\n",
    "\n",
    "\n",
    "merger = PdfMerger()\n",
    "for filename in filenames:\n",
    "    merger.append(filename)\n",
    "\n",
    "merger.write(\"testMerge.pdf\")\n",
    "\n",
    "'''\n",
    "\n",
    "    \n"
   ]
  },
  {
   "cell_type": "code",
   "execution_count": 7,
   "id": "0a8c86e9-33ba-440f-a56b-9e5f9fef3cf0",
   "metadata": {},
   "outputs": [
    {
     "ename": "AttributeError",
     "evalue": "module 'tabula' has no attribute 'read_pdf'",
     "output_type": "error",
     "traceback": [
      "\u001b[1;31m---------------------------------------------------------------------------\u001b[0m",
      "\u001b[1;31mAttributeError\u001b[0m                            Traceback (most recent call last)",
      "Cell \u001b[1;32mIn[7], line 4\u001b[0m\n\u001b[0;32m      1\u001b[0m \u001b[38;5;28;01mimport\u001b[39;00m \u001b[38;5;21;01mtabula\u001b[39;00m\n\u001b[0;32m      3\u001b[0m \u001b[38;5;66;03m# Read the PDF and extract the tables\u001b[39;00m\n\u001b[1;32m----> 4\u001b[0m tables \u001b[38;5;241m=\u001b[39m \u001b[43mtabula\u001b[49m\u001b[38;5;241;43m.\u001b[39;49m\u001b[43mread_pdf\u001b[49m(\u001b[38;5;124m\"\u001b[39m\u001b[38;5;124mTest.pdf\u001b[39m\u001b[38;5;124m\"\u001b[39m, pages\u001b[38;5;241m=\u001b[39m\u001b[38;5;124m\"\u001b[39m\u001b[38;5;124mall\u001b[39m\u001b[38;5;124m\"\u001b[39m)\n\u001b[0;32m      6\u001b[0m \u001b[38;5;66;03m# Assuming the table you want is the first one\u001b[39;00m\n\u001b[0;32m      7\u001b[0m df \u001b[38;5;241m=\u001b[39m tables[\u001b[38;5;241m0\u001b[39m]\n",
      "\u001b[1;31mAttributeError\u001b[0m: module 'tabula' has no attribute 'read_pdf'"
     ]
    }
   ],
   "source": [
    "import tabula\n",
    "\n",
    "# Read the PDF and extract the tables\n",
    "tables = tabula.read_pdf(\"Test.pdf\", pages=\"all\")\n",
    "\n",
    "# Assuming the table you want is the first one\n",
    "df = tables[0]\n",
    "\n",
    "# Access the desired column by name\n",
    "column_data = df[\"Order Code\"]\n",
    "\n",
    "print(column_data)"
   ]
  },
  {
   "cell_type": "code",
   "execution_count": null,
   "id": "57e2f6b8-53e8-40f4-81b8-7a489de1e088",
   "metadata": {},
   "outputs": [],
   "source": []
  }
 ],
 "metadata": {
  "kernelspec": {
   "display_name": "Python 3 (ipykernel)",
   "language": "python",
   "name": "python3"
  },
  "language_info": {
   "codemirror_mode": {
    "name": "ipython",
    "version": 3
   },
   "file_extension": ".py",
   "mimetype": "text/x-python",
   "name": "python",
   "nbconvert_exporter": "python",
   "pygments_lexer": "ipython3",
   "version": "3.13.0"
  }
 },
 "nbformat": 4,
 "nbformat_minor": 5
}
