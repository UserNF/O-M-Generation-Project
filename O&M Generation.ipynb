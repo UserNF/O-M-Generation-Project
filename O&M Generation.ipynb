{
 "cells": [
  {
   "cell_type": "code",
   "execution_count": 30,
   "id": "b4ffc0b0-055b-4c0e-a30b-a859395c6308",
   "metadata": {},
   "outputs": [
    {
     "name": "stdout",
     "output_type": "stream",
     "text": [
      "\n",
      "Ia3920efmi   TechnicalLit  \n",
      "290340929  TechnicalLit  \n",
      "3490ikrfer  TechnicalLit  \n",
      " \n"
     ]
    }
   ],
   "source": [
    "# This program generates O&M based on the technical literature index \n",
    "import customtkinter\n",
    "import PyPDF2\n",
    "from PyPDF2 import PdfReader\n",
    "\n",
    "# Pulls data from a pdf file\n",
    "reader = PdfReader(\"Test.pdf\")\n",
    "page = reader.pages[0]\n",
    "\n",
    "\n",
    "parts = []\n",
    "\n",
    "# Specifies\n",
    "def visitor_body(text, cm, tm, fontDict, fontSize):\n",
    "    y = tm[5]\n",
    "    if  y < 660 and y > 50:\n",
    "        parts.append(text)\n",
    "# Append parts of text\n",
    "\n",
    "page.extract_text(visitor_text=visitor_body)\n",
    "text_body = \"\".join(parts)\n",
    "\n",
    "print(text_body)\n",
    "    \n"
   ]
  },
  {
   "cell_type": "code",
   "execution_count": null,
   "id": "0a8c86e9-33ba-440f-a56b-9e5f9fef3cf0",
   "metadata": {},
   "outputs": [],
   "source": []
  }
 ],
 "metadata": {
  "kernelspec": {
   "display_name": "Python 3 (ipykernel)",
   "language": "python",
   "name": "python3"
  },
  "language_info": {
   "codemirror_mode": {
    "name": "ipython",
    "version": 3
   },
   "file_extension": ".py",
   "mimetype": "text/x-python",
   "name": "python",
   "nbconvert_exporter": "python",
   "pygments_lexer": "ipython3",
   "version": "3.13.0"
  }
 },
 "nbformat": 4,
 "nbformat_minor": 5
}
